{
 "cells": [
  {
   "cell_type": "code",
   "execution_count": null,
   "metadata": {},
   "outputs": [],
   "source": [
    "import cv2"
   ]
  },
  {
   "cell_type": "code",
   "execution_count": null,
   "metadata": {},
   "outputs": [],
   "source": [
    "# Enabling Camera\n",
    "cap = cv2.VideoCapture(0)\n",
    "cap.set(3, 1366)\n",
    "cap.set(4, 768)\n",
    "\n",
    "#Importing the cascade classifiers\n",
    "faceCascade = cv2.CascadeClassifier(cv2.data.haarcascades + \"haarcascade_frontalface_default.xml\")\n",
    "#faceCascade = cv2.CascadeClassifier('haarcascade_frontalface_default.xml')\n",
    "eyeCascade = cv2.CascadeClassifier(cv2.data.haarcascades + \"haarcascade_eye_tree_eyeglasses.xml\")\n",
    "\n",
    "#Face Detectiono\n",
    "while True:\n",
    "    success, img = cap.read()\n",
    "    #converting image into grey\n",
    "    imgGrey = cv2.cvtColor(img, cv2.COLOR_BGR2GRAY)\n",
    "    faces = faceCascade.detectMultiScale(imgGrey,1.2,5)\n",
    "\n",
    "    # for box around the face\n",
    "    for(x,y,w,h) in faces:\n",
    "        img = cv2.rectangle(img,(x,y),(x + w,y + h),(0,255,0), 3)\n",
    "    \n",
    "    # for detection of eye \n",
    "    eyes = eyeCascade.detectMultiScale(imgGrey,1.2,5)\n",
    "    for(ex,ey,ew,eh) in eyes:\n",
    "        img = cv2.rectangle(img,(ex,ey),(ex+ew,ey+eh),(0,255,0),3)\n",
    "    \n",
    "    #opening camera \n",
    "    cv2.imshow('face_detect',img)\n",
    "    if cv2.waitKey(10) & 0xFF == ord('q'):\n",
    "        break\n",
    "cap.release()\n",
    "cv2.destroyWindow('face_detect')"
   ]
  }
 ],
 "metadata": {
  "interpreter": {
   "hash": "7812ea015bdcee6f23a998adcdd2ef97c151c0c241b7b7070987d9313e41299d"
  },
  "kernelspec": {
   "display_name": "Python 3.9.1 64-bit",
   "language": "python",
   "name": "python3"
  },
  "language_info": {
   "codemirror_mode": {
    "name": "ipython",
    "version": 3
   },
   "file_extension": ".py",
   "mimetype": "text/x-python",
   "name": "python",
   "nbconvert_exporter": "python",
   "pygments_lexer": "ipython3",
   "version": "3.9.10"
  },
  "orig_nbformat": 4
 },
 "nbformat": 4,
 "nbformat_minor": 2
}
